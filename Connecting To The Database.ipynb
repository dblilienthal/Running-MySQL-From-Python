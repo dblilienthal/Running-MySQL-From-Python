{
 "cells": [
  {
   "cell_type": "markdown",
   "metadata": {},
   "source": [
    "<h1>How To Use And Access A MySQL Database From Python</h1> <br>\n",
    "- By Derek Lilienthal"
   ]
  },
  {
   "cell_type": "markdown",
   "metadata": {},
   "source": [
    "The first thing we need to do is make sure you have mysql installed. Run this is either your windows command prompt (or terminal) to make sure it's installed\n",
    "\n",
    "<code>pip install mysql-connector-python</code>"
   ]
  },
  {
   "cell_type": "markdown",
   "metadata": {},
   "source": [
    "Next, you need to create a python file of some sorts. <br>This can be done in your favorite IDE (like pycharm, jupyter, spyder, vim, etc...)"
   ]
  },
  {
   "cell_type": "markdown",
   "metadata": {},
   "source": [
    "Next, import the mysql connector. Good practice is putting it in the top of your file <br>"
   ]
  },
  {
   "cell_type": "code",
   "execution_count": 1,
   "metadata": {},
   "outputs": [],
   "source": [
    "import mysql.connector"
   ]
  },
  {
   "cell_type": "markdown",
   "metadata": {},
   "source": [
    "Next is to connect to the database. This is done by specifing a couple things. \n",
    "1. Host Name\n",
    "2. User Name\n",
    "3. Password\n",
    "4. Database name\n",
    "\n",
    "<em> Note: These do not need to be in this order as long as they are specified in the code </em>"
   ]
  },
  {
   "cell_type": "code",
   "execution_count": 2,
   "metadata": {},
   "outputs": [],
   "source": [
    "# Save the connection object to a variable\n",
    "mydb = mysql.connector.connect(\n",
    "  host=\"host_name\n",
    "  user=\"user_name\",\n",
    "  password=\"password\",\n",
    "  database=\"database_name\"\n",
    ")"
   ]
  },
  {
   "cell_type": "markdown",
   "metadata": {},
   "source": [
    "You can make sure it is connected by running this command"
   ]
  },
  {
   "cell_type": "code",
   "execution_count": 3,
   "metadata": {},
   "outputs": [
    {
     "name": "stdout",
     "output_type": "stream",
     "text": [
      "True\n"
     ]
    }
   ],
   "source": [
    "print(mydb.is_connected())"
   ]
  },
  {
   "cell_type": "markdown",
   "metadata": {},
   "source": [
    "<h4>Now that you are connected to the data base, you can pull data from it by executing queries. </h4><br>\n",
    "<em> Note: It is also good practice to close your database connection whenever you are done accessing it. You can do this by putting <b>mydb.close()</b> after your script. </em><br>\n",
    "<em> Also note: Whenever you run the <b>mydb.close()</b>, you will need to restablish your connection to the data base by running the code that connects you to the db. </em>"
   ]
  },
  {
   "cell_type": "markdown",
   "metadata": {},
   "source": [
    "<h2> Inserting Data </h2>"
   ]
  },
  {
   "cell_type": "markdown",
   "metadata": {},
   "source": [
    "First, i will show how to insert data into the data base.\n",
    "\n",
    "1. Create the SQL statement\n",
    "\n",
    "To insert into the database, you need to follow the following format<br><br>\n",
    "<b> INSERT INTO <em>table_name</em> (<em>column1, column2, column3, etc..</em>) VALUES (%s, %s, %s, %s,...) </b>"
   ]
  },
  {
   "cell_type": "markdown",
   "metadata": {},
   "source": [
    "<em> Note: to insert into the db, you need to specify each column in the insert statement (except if there is an auto_incrementing id column). There also needs to be the same out of <b>%s</b> as there is insertable columns. </em>"
   ]
  },
  {
   "cell_type": "code",
   "execution_count": 4,
   "metadata": {},
   "outputs": [],
   "source": [
    "# Save the query to a variable is not required, but will lead to better readability\n",
    "sql = \"\"\"\n",
    "INSERT INTO test_data \n",
    "    (job_title, \n",
    "    geo_location, \n",
    "    years_experience, \n",
    "    education_level, \n",
    "    programming_languages, \n",
    "    IDE, \n",
    "    remote, \n",
    "    salary, \n",
    "    frameworks) \n",
    "    VALUES (%s, %s, %s, %s, %s, %s, %s, %s, %s)\n",
    "    \"\"\""
   ]
  },
  {
   "cell_type": "markdown",
   "metadata": {},
   "source": [
    "Next, you need to specify the values that will replace the <b>%s</b>"
   ]
  },
  {
   "cell_type": "code",
   "execution_count": 5,
   "metadata": {},
   "outputs": [],
   "source": [
    "job_title = 'Data Scientist'\n",
    "geo_location = 'San Francisco, CA'\n",
    "years_experience = '5+'\n",
    "education_level = 'Masters or Ph.d'\n",
    "programming_languages = 'Python'\n",
    "IDE = 'Jupyter Notebooks'\n",
    "remote = 'N'\n",
    "salary = '190k'\n",
    "frameworks = 'Flask'\n",
    "\n",
    "# Save all the values into a tuple. This is also not required but will make for better readability.\n",
    "val = (job_title, \n",
    "       geo_location, \n",
    "       years_experience, \n",
    "       education_level, \n",
    "       programming_languages, \n",
    "       IDE, \n",
    "       remote, \n",
    "       salary, \n",
    "       frameworks)"
   ]
  },
  {
   "cell_type": "markdown",
   "metadata": {},
   "source": [
    "<em> Note: <b>ORDER OF COLUMNS MATTERS</b> when inserting. If you try to insert with the values not in the same order as they appear left to right in the data base, you're gonna have a bad time. </em>"
   ]
  },
  {
   "cell_type": "markdown",
   "metadata": {},
   "source": [
    "Next, you need to instantiate a <b>cursor</b> object. What the cursor does is allow you to execute operations."
   ]
  },
  {
   "cell_type": "code",
   "execution_count": 6,
   "metadata": {},
   "outputs": [],
   "source": [
    "mycursor = mydb.cursor()"
   ]
  },
  {
   "cell_type": "markdown",
   "metadata": {},
   "source": [
    "Finall, you can execute the query"
   ]
  },
  {
   "cell_type": "code",
   "execution_count": 7,
   "metadata": {},
   "outputs": [],
   "source": [
    "mycursor.execute(sql, val)\n",
    "mydb.commit()"
   ]
  },
  {
   "cell_type": "markdown",
   "metadata": {},
   "source": [
    "<em><b>Note:</b> You must 'commit()' to the database. Otherwise, your query will <b>NOT</b> save. </em><br>\n",
    "More information about inserting https://www.w3schools.com/python/python_mysql_insert.asp"
   ]
  },
  {
   "cell_type": "markdown",
   "metadata": {},
   "source": [
    "If you want, you can check to see how many records were inserted. "
   ]
  },
  {
   "cell_type": "code",
   "execution_count": 8,
   "metadata": {},
   "outputs": [
    {
     "name": "stdout",
     "output_type": "stream",
     "text": [
      "1 record inserted.\n"
     ]
    }
   ],
   "source": [
    "print(mycursor.rowcount, \"record inserted.\")"
   ]
  },
  {
   "cell_type": "code",
   "execution_count": 9,
   "metadata": {},
   "outputs": [
    {
     "name": "stdout",
     "output_type": "stream",
     "text": [
      "False\n"
     ]
    }
   ],
   "source": [
    "# Closing the connection\n",
    "mydb.close()\n",
    "# Make sure we are closed\n",
    "print(mydb.is_connected())"
   ]
  },
  {
   "cell_type": "markdown",
   "metadata": {},
   "source": [
    "<h2> Running Queries / Getting Information </h2>"
   ]
  },
  {
   "cell_type": "markdown",
   "metadata": {},
   "source": [
    "You get information from the data base by using a format like: <br><br>\n",
    "<b>SELECT <em>column1, column2, column3, etc... </em> FROM <em>table_name</em> </b> <br><br>\n",
    "If you want your query to specify a certain attribute, you need to have a query like <br>    \n",
    "<b>SELECT <em>column1, column2, column3, etc...</em> FROM <em>table_name</em> WHERE <em>column1</em> = <em> whatever_you_want_it_to_equal</em>\n"
   ]
  },
  {
   "cell_type": "markdown",
   "metadata": {},
   "source": [
    "For more information about how to make queries <br>\n",
    "link: https://www.w3schools.com/sql/default.asp"
   ]
  },
  {
   "cell_type": "markdown",
   "metadata": {},
   "source": [
    "Before running any queries, you will need to make sure that you are already connected to the data base. "
   ]
  },
  {
   "cell_type": "code",
   "execution_count": 10,
   "metadata": {
    "scrolled": true
   },
   "outputs": [
    {
     "name": "stdout",
     "output_type": "stream",
     "text": [
      "True\n"
     ]
    }
   ],
   "source": [
    "mydb = mysql.connector.connect(\n",
    "  host=\"host_name\n",
    "  user=\"user_name\",\n",
    "  password=\"password\",\n",
    "  database=\"database_name\"\n",
    ")\n",
    "print(mydb.is_connected())"
   ]
  },
  {
   "cell_type": "markdown",
   "metadata": {},
   "source": [
    "Don't forget to create a cursor object!"
   ]
  },
  {
   "cell_type": "code",
   "execution_count": 11,
   "metadata": {},
   "outputs": [],
   "source": [
    "mycursor = mydb.cursor()"
   ]
  },
  {
   "cell_type": "markdown",
   "metadata": {},
   "source": [
    "Now there are <b><u>two</u></b> ways i know of to run queries on the data base.\n",
    "1. Using fetchall()\n",
    "2. Using pandas"
   ]
  },
  {
   "cell_type": "markdown",
   "metadata": {},
   "source": [
    "<h3> Using fetchall() </h3>"
   ]
  },
  {
   "cell_type": "markdown",
   "metadata": {},
   "source": [
    "This first way is a pretty explicit way to execute data. It is also the more lightweight version of getting data from the database but doesn't necessarly present it in a nice way. "
   ]
  },
  {
   "cell_type": "markdown",
   "metadata": {},
   "source": [
    "<em>View all the data in the table</em>"
   ]
  },
  {
   "cell_type": "code",
   "execution_count": 12,
   "metadata": {},
   "outputs": [],
   "source": [
    "# Create a query\n",
    "sql = \"SELECT * FROM test_data\"\n",
    "# Execute the query\n",
    "mycursor.execute(sql)"
   ]
  },
  {
   "cell_type": "markdown",
   "metadata": {},
   "source": [
    "Now that we've executed the query, we will need to fetch the data."
   ]
  },
  {
   "cell_type": "code",
   "execution_count": 13,
   "metadata": {},
   "outputs": [],
   "source": [
    "# Fetch the data and store it into a variable\n",
    "result = mycursor.fetchall()"
   ]
  },
  {
   "cell_type": "markdown",
   "metadata": {},
   "source": [
    "Print the results"
   ]
  },
  {
   "cell_type": "code",
   "execution_count": 14,
   "metadata": {},
   "outputs": [
    {
     "name": "stdout",
     "output_type": "stream",
     "text": [
      "[(1, 'Java Developer', 'San Jose, CA', '3+', 'Masters', 'Java, C++', 'intellij', 'N', '90k', ''), (2, 'Java Developer', 'San Jose, CA', '3+', 'Masters', 'Java, C++', 'intellij', 'N', '90k', ''), (3, 'Data Scientist', 'San Francisco, CA', '5+', 'Masters or Ph.d', 'Python', 'Jupyter Notebooks', 'N', '190k', 'Flask'), (4, 'Data Scientist', 'San Francisco, CA', '5+', 'Masters or Ph.d', 'Python', 'Jupyter Notebooks', 'N', '190k', 'Flask')]\n"
     ]
    }
   ],
   "source": [
    "print(result)"
   ]
  },
  {
   "cell_type": "markdown",
   "metadata": {},
   "source": [
    "As we can see, the results gets printed into a list of tuples. By itself is not very pretty. So you may want to do some stuff to make it look nicer"
   ]
  },
  {
   "cell_type": "code",
   "execution_count": 15,
   "metadata": {
    "scrolled": false
   },
   "outputs": [
    {
     "name": "stdout",
     "output_type": "stream",
     "text": [
      "(1, 'Java Developer', 'San Jose, CA', '3+', 'Masters', 'Java, C++', 'intellij', 'N', '90k', '')\n",
      "(2, 'Java Developer', 'San Jose, CA', '3+', 'Masters', 'Java, C++', 'intellij', 'N', '90k', '')\n",
      "(3, 'Data Scientist', 'San Francisco, CA', '5+', 'Masters or Ph.d', 'Python', 'Jupyter Notebooks', 'N', '190k', 'Flask')\n",
      "(4, 'Data Scientist', 'San Francisco, CA', '5+', 'Masters or Ph.d', 'Python', 'Jupyter Notebooks', 'N', '190k', 'Flask')\n"
     ]
    }
   ],
   "source": [
    "# Loop through each row and print the result\n",
    "for row in result:\n",
    "    print(row)"
   ]
  },
  {
   "cell_type": "markdown",
   "metadata": {},
   "source": [
    "<em> Note: Don't mind the double entries. This was from me running this program multiple times by accident </em>"
   ]
  },
  {
   "cell_type": "markdown",
   "metadata": {},
   "source": [
    "Close the connection"
   ]
  },
  {
   "cell_type": "code",
   "execution_count": 16,
   "metadata": {},
   "outputs": [
    {
     "name": "stdout",
     "output_type": "stream",
     "text": [
      "False\n"
     ]
    }
   ],
   "source": [
    "# Closing the connection\n",
    "mydb.close()\n",
    "# Make sure we are closed\n",
    "print(mydb.is_connected())"
   ]
  },
  {
   "cell_type": "markdown",
   "metadata": {},
   "source": [
    "<h3> Using Pandas </h3>"
   ]
  },
  {
   "cell_type": "markdown",
   "metadata": {},
   "source": [
    "The next method is using the python library of <b>pandas</b>"
   ]
  },
  {
   "cell_type": "markdown",
   "metadata": {},
   "source": [
    "First, you need to make sure you have pandas installed <br><br>\n",
    "<code>pip install pandas</code>"
   ]
  },
  {
   "cell_type": "markdown",
   "metadata": {},
   "source": [
    "Next, we will need to import the libary. "
   ]
  },
  {
   "cell_type": "code",
   "execution_count": 17,
   "metadata": {},
   "outputs": [],
   "source": [
    "import pandas as pd"
   ]
  },
  {
   "cell_type": "markdown",
   "metadata": {},
   "source": [
    "<em> Don't forget to connect to the data base! </em>"
   ]
  },
  {
   "cell_type": "code",
   "execution_count": 18,
   "metadata": {},
   "outputs": [
    {
     "name": "stdout",
     "output_type": "stream",
     "text": [
      "True\n"
     ]
    }
   ],
   "source": [
    "mydb = mysql.connector.connect(\n",
    "  host=\"host_name\n",
    "  user=\"user_name\",\n",
    "  password=\"password\",\n",
    "  database=\"database_name\"\n",
    ")\n",
    "print(mydb.is_connected())"
   ]
  },
  {
   "cell_type": "markdown",
   "metadata": {},
   "source": [
    "<em>Note: You do not need to create a cursor object when using pandas </em>"
   ]
  },
  {
   "cell_type": "markdown",
   "metadata": {},
   "source": [
    "Next, create the query"
   ]
  },
  {
   "cell_type": "code",
   "execution_count": 19,
   "metadata": {},
   "outputs": [],
   "source": [
    "sql = \"SELECT * FROM test_data\""
   ]
  },
  {
   "cell_type": "markdown",
   "metadata": {},
   "source": [
    "Run the query using <br><br> <b>pd.read_sql( <em>query</em> , <em>database</em> ) </b> <br><br>\n",
    "This then returns a pandas dataframe which is displayed very nicely"
   ]
  },
  {
   "cell_type": "code",
   "execution_count": 20,
   "metadata": {},
   "outputs": [],
   "source": [
    "result_df = pd.read_sql(sql, mydb)"
   ]
  },
  {
   "cell_type": "code",
   "execution_count": 21,
   "metadata": {
    "scrolled": true
   },
   "outputs": [
    {
     "data": {
      "text/html": [
       "<div>\n",
       "<style scoped>\n",
       "    .dataframe tbody tr th:only-of-type {\n",
       "        vertical-align: middle;\n",
       "    }\n",
       "\n",
       "    .dataframe tbody tr th {\n",
       "        vertical-align: top;\n",
       "    }\n",
       "\n",
       "    .dataframe thead th {\n",
       "        text-align: right;\n",
       "    }\n",
       "</style>\n",
       "<table border=\"1\" class=\"dataframe\">\n",
       "  <thead>\n",
       "    <tr style=\"text-align: right;\">\n",
       "      <th></th>\n",
       "      <th>job_id</th>\n",
       "      <th>job_title</th>\n",
       "      <th>geo_location</th>\n",
       "      <th>years_experience</th>\n",
       "      <th>education_level</th>\n",
       "      <th>programming_languages</th>\n",
       "      <th>IDE</th>\n",
       "      <th>remote</th>\n",
       "      <th>salary</th>\n",
       "      <th>frameworks</th>\n",
       "    </tr>\n",
       "  </thead>\n",
       "  <tbody>\n",
       "    <tr>\n",
       "      <th>0</th>\n",
       "      <td>1</td>\n",
       "      <td>Java Developer</td>\n",
       "      <td>San Jose, CA</td>\n",
       "      <td>3+</td>\n",
       "      <td>Masters</td>\n",
       "      <td>Java, C++</td>\n",
       "      <td>intellij</td>\n",
       "      <td>N</td>\n",
       "      <td>90k</td>\n",
       "      <td></td>\n",
       "    </tr>\n",
       "    <tr>\n",
       "      <th>1</th>\n",
       "      <td>2</td>\n",
       "      <td>Java Developer</td>\n",
       "      <td>San Jose, CA</td>\n",
       "      <td>3+</td>\n",
       "      <td>Masters</td>\n",
       "      <td>Java, C++</td>\n",
       "      <td>intellij</td>\n",
       "      <td>N</td>\n",
       "      <td>90k</td>\n",
       "      <td></td>\n",
       "    </tr>\n",
       "    <tr>\n",
       "      <th>2</th>\n",
       "      <td>3</td>\n",
       "      <td>Data Scientist</td>\n",
       "      <td>San Francisco, CA</td>\n",
       "      <td>5+</td>\n",
       "      <td>Masters or Ph.d</td>\n",
       "      <td>Python</td>\n",
       "      <td>Jupyter Notebooks</td>\n",
       "      <td>N</td>\n",
       "      <td>190k</td>\n",
       "      <td>Flask</td>\n",
       "    </tr>\n",
       "    <tr>\n",
       "      <th>3</th>\n",
       "      <td>4</td>\n",
       "      <td>Data Scientist</td>\n",
       "      <td>San Francisco, CA</td>\n",
       "      <td>5+</td>\n",
       "      <td>Masters or Ph.d</td>\n",
       "      <td>Python</td>\n",
       "      <td>Jupyter Notebooks</td>\n",
       "      <td>N</td>\n",
       "      <td>190k</td>\n",
       "      <td>Flask</td>\n",
       "    </tr>\n",
       "  </tbody>\n",
       "</table>\n",
       "</div>"
      ],
      "text/plain": [
       "   job_id       job_title       geo_location years_experience  \\\n",
       "0       1  Java Developer       San Jose, CA               3+   \n",
       "1       2  Java Developer       San Jose, CA               3+   \n",
       "2       3  Data Scientist  San Francisco, CA               5+   \n",
       "3       4  Data Scientist  San Francisco, CA               5+   \n",
       "\n",
       "   education_level programming_languages                IDE remote salary  \\\n",
       "0          Masters             Java, C++           intellij      N    90k   \n",
       "1          Masters             Java, C++           intellij      N    90k   \n",
       "2  Masters or Ph.d                Python  Jupyter Notebooks      N   190k   \n",
       "3  Masters or Ph.d                Python  Jupyter Notebooks      N   190k   \n",
       "\n",
       "  frameworks  \n",
       "0             \n",
       "1             \n",
       "2      Flask  \n",
       "3      Flask  "
      ]
     },
     "execution_count": 21,
     "metadata": {},
     "output_type": "execute_result"
    }
   ],
   "source": [
    "result_df"
   ]
  },
  {
   "cell_type": "markdown",
   "metadata": {},
   "source": [
    "And that's it! It displays the information all nicely."
   ]
  },
  {
   "cell_type": "markdown",
   "metadata": {},
   "source": [
    "Don't forget to close the connection!"
   ]
  },
  {
   "cell_type": "code",
   "execution_count": 22,
   "metadata": {},
   "outputs": [
    {
     "name": "stdout",
     "output_type": "stream",
     "text": [
      "False\n"
     ]
    }
   ],
   "source": [
    "mydb.close()\n",
    "print(mydb.is_connected())"
   ]
  }
 ],
 "metadata": {
  "kernelspec": {
   "display_name": "Python 3",
   "language": "python",
   "name": "python3"
  },
  "language_info": {
   "codemirror_mode": {
    "name": "ipython",
    "version": 3
   },
   "file_extension": ".py",
   "mimetype": "text/x-python",
   "name": "python",
   "nbconvert_exporter": "python",
   "pygments_lexer": "ipython3",
   "version": "3.7.9"
  }
 },
 "nbformat": 4,
 "nbformat_minor": 4
}
